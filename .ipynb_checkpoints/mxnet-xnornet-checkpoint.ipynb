{
 "cells": [
  {
   "cell_type": "code",
   "execution_count": 1,
   "metadata": {},
   "outputs": [],
   "source": [
    "import mxnet as mx\n",
    "import numpy as np"
   ]
  },
  {
   "cell_type": "code",
   "execution_count": 2,
   "metadata": {},
   "outputs": [],
   "source": [
    "class Binarize(mx.operator.CustomOp):\n",
    "    def forward(self, is_train, req, in_data, out_data, aux):\n",
    "        \"\"\"Implements forward computation.\n",
    "\n",
    "        is_train : bool, whether forwarding for training or testing.\n",
    "        req : list of {'null', 'write', 'inplace', 'add'}, how to assign to out_data. 'null' means skip assignment, etc.\n",
    "        in_data : list of NDArray, input data.\n",
    "        out_data : list of NDArray, pre-allocated output buffers.\n",
    "        aux : list of NDArray, mutable auxiliary states. Usually not used.\n",
    "        \"\"\"\n",
    "        _x = in_data[0].asnumpy()\n",
    "        x = _x.copy()\n",
    "        # Just to make sure that the results are only in -1 and 1.\n",
    "        x[x == 0] = -1\n",
    "        y = np.sign(x) * np.mean(np.abs(_x))\n",
    "        print(y)\n",
    "        self.assign(out_data[0], req[0], mx.nd.array(y))\n",
    "\n",
    "    def backward(self, req, out_grad, in_data, out_data, in_grad, aux):\n",
    "        \"\"\"Implements backward computation\n",
    "\n",
    "        req : list of {'null', 'write', 'inplace', 'add'}, how to assign to in_grad\n",
    "        out_grad : list of NDArray, gradient w.r.t. output data.\n",
    "        in_grad : list of NDArray, gradient w.r.t. input data. This is the output buffer.\n",
    "        \"\"\"\n",
    "        x = in_data[0].asnumpy()\n",
    "        dx = out_grad[0].asnumpy()\n",
    "        dx[x <= -1] = 0\n",
    "        dx[x >= 1] = 0\n",
    "        self.assign(in_grad[0], req[0], mx.nd.array(dx))\n",
    "        \n",
    "@mx.operator.register(\"binarize\")\n",
    "class BinarizeProp(mx.operator.CustomOpProp):\n",
    "    def __init__(self):\n",
    "        super(BinarizeProp, self).__init__(True)\n",
    "\n",
    "    def create_operator(self, ctx, in_shapes, in_dtypes):\n",
    "        #  create and return the CustomOp class.\n",
    "        return Binarize()"
   ]
  },
  {
   "cell_type": "code",
   "execution_count": 3,
   "metadata": {},
   "outputs": [],
   "source": [
    "class BinaryBlock(mx.gluon.Block):\n",
    "    def __init__(self, **kwargs):\n",
    "        super(BinaryBlock, self).__init__(**kwargs)\n",
    "    \n",
    "    def forward(self, x):\n",
    "        return mx.nd.Custom(x, op_type='binarize')"
   ]
  },
  {
   "cell_type": "code",
   "execution_count": 4,
   "metadata": {},
   "outputs": [
    {
     "name": "stdout",
     "output_type": "stream",
     "text": [
      "[[0.63595426 0.63595426 0.63595426]\n",
      " [0.63595426 0.63595426 0.63595426]\n",
      " [0.63595426 0.63595426 0.63595426]\n",
      " [0.63595426 0.63595426 0.63595426]]\n",
      "\n",
      "[[0.63595426 0.63595426 0.63595426]\n",
      " [0.63595426 0.63595426 0.63595426]\n",
      " [0.63595426 0.63595426 0.63595426]\n",
      " [0.63595426 0.63595426 0.63595426]]\n",
      "<NDArray 4x3 @cpu(0)>\n"
     ]
    }
   ],
   "source": [
    "binarize = BinaryBlock()\n",
    "binarize.initialize()\n",
    "x = mx.nd.uniform(shape=(4, 3))\n",
    "y = binarize(x)\n",
    "print(y)"
   ]
  },
  {
   "cell_type": "code",
   "execution_count": null,
   "metadata": {},
   "outputs": [],
   "source": []
  }
 ],
 "metadata": {
  "kernelspec": {
   "display_name": "Python 3",
   "language": "python",
   "name": "python3"
  },
  "language_info": {
   "codemirror_mode": {
    "name": "ipython",
    "version": 3
   },
   "file_extension": ".py",
   "mimetype": "text/x-python",
   "name": "python",
   "nbconvert_exporter": "python",
   "pygments_lexer": "ipython3",
   "version": "3.6.3"
  }
 },
 "nbformat": 4,
 "nbformat_minor": 2
}
